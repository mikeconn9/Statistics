{
 "cells": [
  {
   "cell_type": "markdown",
   "metadata": {},
   "source": [
    "From Xin Xin\n",
    "1. Chi-square test\n",
    "Used for: Categorical(nominal or ordinal) data represented as counts or frequencies. Requires large expected frequencies (At least 5).\n",
    "Purpose: Independence? e.g., is gender associated with voting preferences?\n",
    "Assumption: No normality assumption, observations are independent.\n",
    "\n",
    "2. Correlation coefficient\n",
    "\n",
    "3. T-test\n",
    "Used for: Continuous (interval or ratio) data.\n",
    "Purpose: Compare means to determine whether there is a statistically significant difference between them. e.g., comparing test scores between two classes.\n",
    "Assumption: Approximately normally distributed. Variances of two groups are equal (In the independent t-test) or appropriately adjusted if unequal.\n",
    "\n",
    "4. ANOVA\n",
    "Used for: Continuous data.\n",
    "Purpose: Compare the means across three or more groups to see if at least one group mean is statistically different from the others. if showing a significant result, follow-up tests(post hoc tests) are typically used to identify which groups differ.\n",
    "One-Way ANOVA: For one independent variable with three or more levels(groups).\n",
    "Two-Way ANOVA: For studying the effect of two independent variables, including any interaction between them.\n",
    "Assumption: Normally distributed within each group. homogeneity of variances (each group has a similar variance). Observations are independent.\n",
    "\n",
    "\n",
    "5. Paired t-test\n",
    "Purpose: For comparing means from the same subjects measured at different times or under different conditions.\n",
    "\n",
    "6. Runs test\n",
    "Used for: Assess the randomness of a sequence. It counts the number of runs - continuous sequences of similar items (for example, a run of 0's or 1's in a binary string), and compares the observed number of runs to what would be expected if the data were produced randomly.\n",
    "H0: Randomness.\n",
    "\n",
    "7. Spearmanr\n",
    "Use when you need to assess the strength and direction of a monotonic relationship between two continuous or ordinal variables (especially when data are not normally distributed or contain outliers). Spearman’s tells you about the rank-based association between two variables.\n",
    "A monotonic relationship implies that variables move together, either both increasing or decreasing over time, without any directional reversal, even if the rate of change varies.\n",
    "\n",
    "8. Kstest\n",
    "H0: The data follows the specified distribution, no significant difference.\n",
    "\n",
    "9. Mann-Whitney U test\n",
    "Null Hypothesis (H₀): The distributions of the two groups are the same (no significant difference).\n",
    "Alternative Hypothesis (H₁): One group has \"systematically higher (or lower)\" values than the other.\n",
    "Instead of comparing means, it compares ranks of the combined data from both groups.\n",
    "Unlike the t-test, it does not assume normality; instead, it uses the ranks of the data rather than the raw values.\n",
    "\n",
    "10. Kruskal-Wallis H test"
   ]
  },
  {
   "cell_type": "markdown",
   "metadata": {},
   "source": [
    "1. Chi-square test\n",
    "The chi-square test is a statistical method used to determine whether the differences between observed frequencies in categorical data and the frequencies expected under a given hypothesis (such as independence or a specific distribution) are due to chance.\n",
    "if p-value < 0.05: Reject H0 (No significant difference), i.e., The treatment generated a big impact, they're different."
   ]
  },
  {
   "cell_type": "code",
   "execution_count": 4,
   "metadata": {},
   "outputs": [
    {
     "name": "stdout",
     "output_type": "stream",
     "text": [
      "chi2 =  0.009318167212904068\n",
      "p_value =  0.9953517530873542\n"
     ]
    }
   ],
   "source": [
    "from scipy.stats import chi2_contingency\n",
    "import numpy as np\n",
    "\n",
    "#observed = np.array([[10, 20, 30],\n",
    "#                    [25, 15, 10]])\n",
    "#chi2 =  16.369047619047624\n",
    "#p value =  0.0002789372227504811\n",
    "\n",
    "observed = np.array([[10, 20, 30],\n",
    "                    [9, 15, 28]])\n",
    "#chi2 =  0.2658104146307416\n",
    "#p_value =  0.8755480837285884\n",
    "\n",
    "observed = np.array([[10, 20, 30],\n",
    "                    [9, 19, 28]])\n",
    "#chi2 =  0.009318167212904068\n",
    "#p_value =  0.9953517530873542\n",
    "\n",
    "chi2, p, dof, expected = chi2_contingency(observed)\n",
    "\n",
    "print(\"chi2 = \", chi2)\n",
    "print(\"p_value = \", p)\n"
   ]
  },
  {
   "cell_type": "markdown",
   "metadata": {},
   "source": [
    "2. Correlation coefficient"
   ]
  },
  {
   "cell_type": "code",
   "execution_count": 7,
   "metadata": {},
   "outputs": [
    {
     "name": "stdout",
     "output_type": "stream",
     "text": [
      "corr_coef =  0.2425356250363329\n",
      "p_value =  0.6942488516293603\n"
     ]
    }
   ],
   "source": [
    "from scipy.stats import pearsonr\n",
    "\n",
    "#x = np.array([1,2,3,4,5])\n",
    "#y = np.array([5,4,2,4,5])\n",
    "#corr_coef =  0.0\n",
    "#p_value =  1.0000000000000002\n",
    "\n",
    "#x = np.array([1,2,3,4,5])\n",
    "#y = np.array([2,3,4,5,7])\n",
    "#corr_coef =  0.9863939238321437\n",
    "#p_value =  0.00190127466019637\n",
    "\n",
    "x = np.array([1,2,3,4,5])\n",
    "y = np.array([2,3,4,5,2])\n",
    "#corr_coef =  0.2425356250363329\n",
    "#p_value =  0.6942488516293603\n",
    "\n",
    "corr_coef, p_value = pearsonr(x, y)\n",
    "\n",
    "print(\"corr_coef = \", corr_coef)\n",
    "print(\"p_value = \", p_value)"
   ]
  },
  {
   "cell_type": "markdown",
   "metadata": {},
   "source": [
    "3. T-test"
   ]
  },
  {
   "cell_type": "code",
   "execution_count": 15,
   "metadata": {},
   "outputs": [
    {
     "name": "stdout",
     "output_type": "stream",
     "text": [
      "t_stat =  -0.10552657229828256\n",
      "p_value =  0.9180447478749818\n"
     ]
    }
   ],
   "source": [
    "from scipy import stats\n",
    "\n",
    "#sample1 = np.array([23, 21, 19, 20, 25, 17])\n",
    "#sample2 = np.array([30, 29, 33, 31, 28, 32])\n",
    "#t_stat =  -6.932325934139483\n",
    "#p_value =  4.032693788776049e-05\n",
    "\n",
    "sample1 = np.array([23, 21, 19, 20, 25, 17])\n",
    "sample2 = np.array([23, 21, 19, 20, 25, 18])\n",
    "#t_stat =  -0.10552657229828256\n",
    "#p_value =  0.9180447478749818\n",
    "\n",
    "t_stat, p_value = stats.ttest_ind(sample1, sample2)\n",
    "\n",
    "print(\"t_stat = \", t_stat)\n",
    "print(\"p_value = \", p_value)"
   ]
  },
  {
   "cell_type": "markdown",
   "metadata": {},
   "source": [
    "4. ANOVA"
   ]
  },
  {
   "cell_type": "code",
   "execution_count": 16,
   "metadata": {},
   "outputs": [
    {
     "name": "stdout",
     "output_type": "stream",
     "text": [
      "f_stat =  22.35779816513762\n",
      "p_value =  3.16246800865601e-05\n"
     ]
    }
   ],
   "source": [
    "from scipy import stats\n",
    "import numpy as np\n",
    "\n",
    "group1 = np.array([23, 21, 19, 20, 26, 17])\n",
    "group2 = np.array([30, 29, 33, 31, 28, 32])\n",
    "group3 = np.array([24, 23, 25, 29, 26, 27])\n",
    "#f_stat =  22.35779816513762\n",
    "#p_value =  3.16246800865601e-05\n",
    "\n",
    "f_stat, p_value = stats.f_oneway(group1, group2, group3)\n",
    "\n",
    "print(\"f_stat = \", f_stat)\n",
    "print(\"p_value = \", p_value)"
   ]
  },
  {
   "cell_type": "markdown",
   "metadata": {},
   "source": [
    "5. Paired t-test"
   ]
  },
  {
   "cell_type": "code",
   "execution_count": 17,
   "metadata": {},
   "outputs": [
    {
     "name": "stdout",
     "output_type": "stream",
     "text": [
      "t_stat =  -5.999999999999998\n",
      "p_value =  0.0038825370469605155\n"
     ]
    }
   ],
   "source": [
    "from scipy.stats import ttest_rel\n",
    "\n",
    "before = np.array([1, 2, 3, 4, 5])\n",
    "after = np.array([2, 2.5, 3.5, 4.5, 5.5])\n",
    "#t_stat =  -5.999999999999998\n",
    "#p_value =  0.0038825370469605155\n",
    "\n",
    "t_stat, p_value = ttest_rel(before, after)\n",
    "\n",
    "print(\"t_stat = \", t_stat)\n",
    "print(\"p_value = \", p_value)"
   ]
  },
  {
   "cell_type": "markdown",
   "metadata": {},
   "source": [
    "6. Runs test"
   ]
  },
  {
   "cell_type": "code",
   "execution_count": 24,
   "metadata": {},
   "outputs": [
    {
     "name": "stdout",
     "output_type": "stream",
     "text": [
      "z_stat =  2.3478713763747794\n",
      "p_value =  0.01888104015609877\n"
     ]
    }
   ],
   "source": [
    "from statsmodels.sandbox.stats.runs import runstest_1samp\n",
    "\n",
    "#data = np.array([0, 1, 1, 0, 1, 0, 1, 1, 1, 0])\n",
    "#z_stat =  0.49170755108038944\n",
    "#p_value =  0.6229260993842225\n",
    "\n",
    "data = np.array([0, 1, 0, 1, 0, 1, 0, 1, 0, 1])\n",
    "z_stat =  2.3478713763747794\n",
    "p_value =  0.01888104015609877\n",
    "\n",
    "z_stat, p_value = runstest_1samp(data)\n",
    "\n",
    "print(\"z_stat = \", z_stat)\n",
    "print(\"p_value = \", p_value)"
   ]
  },
  {
   "cell_type": "markdown",
   "metadata": {},
   "source": [
    "7. Spearmanr"
   ]
  },
  {
   "cell_type": "code",
   "execution_count": 29,
   "metadata": {},
   "outputs": [
    {
     "name": "stdout",
     "output_type": "stream",
     "text": [
      "rho =  -0.09999999999999999\n",
      "p_value =  0.8728885715695383\n"
     ]
    }
   ],
   "source": [
    "from scipy.stats import spearmanr\n",
    "\n",
    "#x = np.array([1, 2, 3, 4, 5])\n",
    "#y = np.array([5, 6, 7, 8, 10])\n",
    "#rho =  0.9999999999999999\n",
    "#p_value =  1.4042654220543672e-24\n",
    "\n",
    "x = np.array([1, 2, 3, 4, 5])\n",
    "y = np.array([5, 6, 15, 8, 1])\n",
    "#rho =  -0.09999999999999999\n",
    "#p_value =  0.8728885715695383\n",
    "\n",
    "rho, p_value = spearmanr(x, y)\n",
    "\n",
    "print(\"rho = \", rho)\n",
    "print(\"p_value = \", p_value)\n"
   ]
  },
  {
   "cell_type": "markdown",
   "metadata": {},
   "source": [
    "8. Kstest"
   ]
  },
  {
   "cell_type": "code",
   "execution_count": 36,
   "metadata": {},
   "outputs": [
    {
     "name": "stdout",
     "output_type": "stream",
     "text": [
      "d_stat =  0.2465276181710127\n",
      "p_value =  0.5017135875077006\n"
     ]
    }
   ],
   "source": [
    "from scipy.stats import kstest\n",
    "\n",
    "#data = np.array([1, 2, 3, 4, 4, 5, 5, 6, 7])\n",
    "#d_stat =  0.8661387569407097\n",
    "#p_value =  2.760204636913194e-08\n",
    "\n",
    "data = np.random.normal(0, 1, 10)\n",
    "#d_stat =  0.2465276181710127\n",
    "#p_value =  0.5017135875077006\n",
    "\n",
    "d_stat, p_value = kstest(data, 'norm')\n",
    "\n",
    "print(\"d_stat = \", d_stat)\n",
    "print(\"p_value = \", p_value)"
   ]
  },
  {
   "cell_type": "markdown",
   "metadata": {},
   "source": [
    "9. Mann-Whitney U test"
   ]
  },
  {
   "cell_type": "code",
   "execution_count": 40,
   "metadata": {},
   "outputs": [
    {
     "name": "stdout",
     "output_type": "stream",
     "text": [
      "u_stat =  24.5\n",
      "p_value =  0.01597069635378012\n"
     ]
    }
   ],
   "source": [
    "from scipy.stats import mannwhitneyu\n",
    "\n",
    "#x = np.array([1, 2, 3, 4, 5])\n",
    "#y = np.array([5, 6, 7, 8, 9])\n",
    "#u_stat =  0.5\n",
    "#p_value =  0.01597069635378012\n",
    "\n",
    "#x = np.array([1, 2, 3, 4, 5])\n",
    "#y = np.array([20, 6, -39, 8, 9])\n",
    "#u_stat =  5.0\n",
    "#p_value =  0.15079365079365079\n",
    "\n",
    "x = np.array([1, 2, 3, 4, 5])\n",
    "y = np.array([-3, -2, -1, 0, 1])\n",
    "#u_stat =  24.5\n",
    "#p_value =  0.01597069635378012\n",
    "\n",
    "u_stat, p_value = mannwhitneyu(x, y)\n",
    "\n",
    "print(\"u_stat = \", u_stat)\n",
    "print(\"p_value = \", p_value)"
   ]
  },
  {
   "cell_type": "markdown",
   "metadata": {},
   "source": [
    "\n",
    "10. Kruskal-Wallis H test"
   ]
  },
  {
   "cell_type": "code",
   "execution_count": null,
   "metadata": {},
   "outputs": [
    {
     "name": "stdout",
     "output_type": "stream",
     "text": [
      "h_stat =  9.500724637681161\n",
      "p_value =  0.008648561098752401\n"
     ]
    }
   ],
   "source": [
    "from scipy.stats import kruskal\n",
    "\n",
    "x = np.array([1, 2, 3, 4, 5])\n",
    "y = np.array([5, 6, 7, 8, 9])\n",
    "z = np.array([1, 1, 2, 3, 4])\n",
    "#h_stat =  9.500724637681161\n",
    "#p_value =  0.008648561098752401\n",
    "\n",
    "h_stat, p_value = kruskal(x, y, z)\n",
    "\n",
    "print(\"h_stat = \", h_stat)\n",
    "print(\"p_value = \", p_value)"
   ]
  }
 ],
 "metadata": {
  "kernelspec": {
   "display_name": "venv",
   "language": "python",
   "name": "python3"
  },
  "language_info": {
   "codemirror_mode": {
    "name": "ipython",
    "version": 3
   },
   "file_extension": ".py",
   "mimetype": "text/x-python",
   "name": "python",
   "nbconvert_exporter": "python",
   "pygments_lexer": "ipython3",
   "version": "3.12.7"
  }
 },
 "nbformat": 4,
 "nbformat_minor": 2
}
